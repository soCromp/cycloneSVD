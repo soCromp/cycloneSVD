{
 "cells": [
  {
   "cell_type": "markdown",
   "id": "e1f58f70",
   "metadata": {},
   "source": [
    "# Inference"
   ]
  },
  {
   "cell_type": "code",
   "execution_count": 1,
   "id": "f88cce00",
   "metadata": {},
   "outputs": [
    {
     "name": "stderr",
     "output_type": "stream",
     "text": [
      "/home/sonia/miniconda3/envs/svd/lib/python3.11/site-packages/tqdm/auto.py:21: TqdmWarning: IProgress not found. Please update jupyter and ipywidgets. See https://ipywidgets.readthedocs.io/en/stable/user_install.html\n",
      "  from .autonotebook import tqdm as notebook_tqdm\n"
     ]
    }
   ],
   "source": [
    "import diffusers\n",
    "from transformers import CLIPVisionModelWithProjection, CLIPImageProcessor\n",
    "import torch\n",
    "import cv2\n",
    "import numpy as np\n",
    "import os\n",
    "import random\n",
    "from tqdm import tqdm\n",
    "from PIL import Image \n",
    "\n",
    "model_path = '/home/sonia/cycloneSVD/windmag_atlanticpacific2/'\n",
    "ckpt_name = 'checkpoint-50000'\n",
    "real_data_path = '/home/cyclone/train/windmag_atlanticpacific'"
   ]
  },
  {
   "cell_type": "code",
   "execution_count": null,
   "id": "939bc849",
   "metadata": {},
   "outputs": [
    {
     "name": "stderr",
     "output_type": "stream",
     "text": [
      "Loading pipeline components...: 100%|██████████| 5/5 [00:00<00:00, 7355.85it/s]\n"
     ]
    }
   ],
   "source": [
    "feature_extractor = CLIPImageProcessor.from_pretrained(os.path.join(model_path, 'feature_extractor'))\n",
    "image_encoder = CLIPVisionModelWithProjection.from_pretrained(os.path.join(model_path, 'image_encoder'))\n",
    "scheduler = diffusers.DDPMScheduler.from_pretrained(os.path.join(model_path, 'scheduler'))\n",
    "unet = diffusers.UNetSpatioTemporalConditionModel.from_pretrained(os.path.join(model_path, ckpt_name, 'unet'))\n",
    "vae = diffusers.AutoencoderKLTemporalDecoder.from_pretrained(os.path.join(model_path, 'vae'))\n",
    "pipeline = diffusers.StableVideoDiffusionPipeline.from_pretrained(\n",
    "    'stabilityai/stable-video-diffusion-img2vid',\n",
    "    image_encoder=image_encoder,\n",
    "    vae=vae,\n",
    "    unet=unet,\n",
    "    scheduler=scheduler,\n",
    "    feature_extractor=feature_extractor,\n",
    "    # revision=args.revision,\n",
    ")\n",
    "width = height = 32\n",
    "num_frames = 8\n",
    "n = 1 # desired eval set size"
   ]
  },
  {
   "cell_type": "code",
   "execution_count": null,
   "id": "5351e8b1",
   "metadata": {},
   "outputs": [
    {
     "name": "stderr",
     "output_type": "stream",
     "text": [
      "100%|██████████| 25/25 [00:00<00:00, 27.99it/s]\n",
      "100%|██████████| 1/1 [00:00<00:00,  1.07it/s]\n"
     ]
    }
   ],
   "source": [
    "outputdir = os.path.join(model_path, ckpt_name, 'synth') #FKA evals\n",
    "if not os.path.exists(outputdir):\n",
    "    os.makedirs(outputdir)\n",
    "    \n",
    "allexamples = os.listdir(real_data_path)\n",
    "examples = random.sample(allexamples, n)\n",
    "\n",
    "with open(os.path.join(outputdir, 'examples.txt'), 'w+') as f:\n",
    "    f.write('\\n'.join(examples))\n",
    "preds = []\n",
    "\n",
    "pipeline = pipeline.to('cuda')\n",
    "for example in tqdm(examples):\n",
    "    imgs = [] \n",
    "    for i in range(num_frames):\n",
    "        frame_path = os.path.join(real_data_path, example, f'{i}.npy')\n",
    "        img = Image.fromarray(np.load(frame_path))\n",
    "        img_resized = img.resize((224,224))\n",
    "        img_tensor = torch.from_numpy(np.array(img_resized)).float()\n",
    "        img_normalized = img_tensor / 255\n",
    "        img_normalized = img_normalized.unsqueeze(0).repeat([3,1,1]).unsqueeze(0)  \n",
    "        imgs.append(img_normalized)\n",
    "        \n",
    "    sample = pipeline(\n",
    "        imgs[0],\n",
    "        height=height,\n",
    "        width=width,\n",
    "        num_frames=num_frames,\n",
    "        decode_chunk_size=8,\n",
    "        motion_bucket_id=127,\n",
    "        fps=7,\n",
    "        noise_aug_strength=0.02,\n",
    "    ).frames[0]\n",
    "    preds.append(sample)\n",
    "    os.makedirs(os.path.join(outputdir, ckpt_name, example), exist_ok=True)\n",
    "    for i in range(num_frames):\n",
    "        frame_arr = np.array(sample[i])\n",
    "        np.save(os.path.join(outputdir, ckpt_name, example, f'{i}.npy'), frame_arr)\n",
    "pipeline = pipeline.to('cpu')"
   ]
  },
  {
   "cell_type": "code",
   "execution_count": 11,
   "id": "edcef26e",
   "metadata": {},
   "outputs": [
    {
     "ename": "NameError",
     "evalue": "name 'preds' is not defined",
     "output_type": "error",
     "traceback": [
      "\u001b[31m---------------------------------------------------------------------------\u001b[39m",
      "\u001b[31mNameError\u001b[39m                                 Traceback (most recent call last)",
      "\u001b[36mCell\u001b[39m\u001b[36m \u001b[39m\u001b[32mIn[11]\u001b[39m\u001b[32m, line 1\u001b[39m\n\u001b[32m----> \u001b[39m\u001b[32m1\u001b[39m pred = [np.asarray(p) \u001b[38;5;28;01mfor\u001b[39;00m p \u001b[38;5;129;01min\u001b[39;00m \u001b[43mpreds\u001b[49m[\u001b[32m0\u001b[39m]]\n",
      "\u001b[31mNameError\u001b[39m: name 'preds' is not defined"
     ]
    }
   ],
   "source": [
    "pred = [np.asarray(p) for p in preds[0]]"
   ]
  },
  {
   "cell_type": "code",
   "execution_count": 29,
   "id": "986a048e",
   "metadata": {},
   "outputs": [],
   "source": [
    "# synthpath = '/home/sonia/cycloneSVD/windmag_atlanticpacific1e-6/checkpoint-50000/synth/checkpoint-50000/19820713180515015500'\n",
    "synthpath = '/home/sonia/cycloneSVD/windmag_atlanticpacific1e-6/checkpoint-50000/synth/checkpoint-50000/19931120120480013350'\n",
    "pred = []\n",
    "for i in range(8):\n",
    "    frame = np.load(os.path.join(synthpath, f'{i}.npy'))\n",
    "    pred.append(frame)"
   ]
  },
  {
   "cell_type": "code",
   "execution_count": 30,
   "id": "cfd3cd29",
   "metadata": {},
   "outputs": [],
   "source": [
    "# -------- helper to draw black outline & hide ticks --------\n",
    "def outline_axes(ax, color='k', lw=1.0):\n",
    "    # ensure frame visible\n",
    "    ax.set_frame_on(True)\n",
    "    # black spines\n",
    "    for spine in ax.spines.values():\n",
    "        spine.set_visible(True)\n",
    "        spine.set_edgecolor(color)\n",
    "        spine.set_linewidth(lw)\n",
    "    # no ticks / labels\n",
    "    ax.tick_params(\n",
    "        axis='both',\n",
    "        which='both',\n",
    "        bottom=False, top=False, left=False, right=False,\n",
    "        labelbottom=False, labelleft=False\n",
    "    )"
   ]
  },
  {
   "cell_type": "code",
   "execution_count": 31,
   "id": "979d2360",
   "metadata": {},
   "outputs": [
    {
     "name": "stderr",
     "output_type": "stream",
     "text": [
      "/tmp/ipykernel_120206/2061756574.py:12: MatplotlibDeprecationWarning: The get_cmap function was deprecated in Matplotlib 3.7 and will be removed in 3.11. Use ``matplotlib.colormaps[name]`` or ``matplotlib.colormaps.get_cmap()`` or ``pyplot.get_cmap()`` instead.\n",
      "  base = plt.cm.get_cmap('viridis', len(levels) - 1)\n"
     ]
    },
    {
     "name": "stdout",
     "output_type": "stream",
     "text": [
      "164.33333333333334 0.0\n",
      "100 0 (32, 32)\n",
      "49 0 (32, 32)\n",
      "54 0 (32, 32)\n",
      "89 0 (32, 32)\n",
      "49 0 (32, 32)\n",
      "39 0 (32, 32)\n",
      "32 0 (32, 32)\n",
      "27 0 (32, 32)\n"
     ]
    },
    {
     "data": {
      "image/png": "[encoded data removed]",
      "text/plain": [
       "<Figure size 1600x800 with 8 Axes>"
      ]
     },
     "metadata": {},
     "output_type": "display_data"
    }
   ],
   "source": [
    "import matplotlib.pyplot as plt\n",
    "import matplotlib.colors as mcolors\n",
    "\n",
    "# Create a figure with 8 subplots (2 rows, 4 columns)\n",
    "fig, axes = plt.subplots(nrows=2, ncols=4, figsize=(16, 8))\n",
    "axes = axes.flatten()  # Flatten to simplify indexing\n",
    "\n",
    "# 1. Define discrete levels and colormap\n",
    "levels = list(range(0,100, 10))\n",
    "# cmap = plt.get_cmap('viridis', len(levels) - 1)\n",
    "# Start from a discrete viridis\n",
    "base = plt.cm.get_cmap('viridis', len(levels) - 1)\n",
    "colors = base(np.arange(base.N))\n",
    "\n",
    "# Make the first bin (0–10) white\n",
    "# colors[0] = (1.0, 1.0, 1.0, 1.0)  # RGBA white\n",
    "# colors[1] = (0.73, 0.87, 1.00, 1.0) \n",
    "# colors[2] = (0.50, 0.75, 1.00, 1.0) \n",
    "# colors[3] = (0.31, 0.63, 0.96, 1.0) \n",
    "# colors[4] = (0.12, 0.61, 0.80, 1.0) \n",
    "# colors[5] = (0.00, 0.68, 0.54, 1.0) \n",
    "# colors[6] = (0.42, 0.75, 0.29, 1.0) \n",
    "# colors[7] = (0.78, 0.84, 0.17, 1.0) \n",
    "# colors[8] = (1.00, 0.85, 0.12, 1.0) \n",
    "\n",
    "# Build a ListedColormap with modified colors\n",
    "cmap = mcolors.ListedColormap(colors)\n",
    "\n",
    "norm = mcolors.BoundaryNorm(boundaries=levels, ncolors=cmap.N)\n",
    "imgs = [img.mean(axis=-1) for img in pred]\n",
    "maxp = max([np.max(p) for p in imgs])\n",
    "minp = min([np.min(p) for p in imgs])\n",
    "print(maxp,minp)\n",
    "\n",
    "# Load and plot each .npy file\n",
    "for i in range(8):\n",
    "    img = imgs[i]\n",
    "    # img = img - minp # Load the image data\n",
    "    img = img - minp \n",
    "    img = img / (maxp - minp)  # Normalize the image data\n",
    "    img = 100*img\n",
    "    img = img.astype(np.uint8)\n",
    "    print(img.max(), img.min(), img.shape)\n",
    "    im=axes[i].imshow(img, cmap=cmap, norm=norm)\n",
    "    axes[i].set_title(f'{i*6} Hours')\n",
    "    # axes[i].axis('off')  # Hide axes for better display\n",
    "    outline_axes(axes[i])\n",
    "    \n",
    "    \n",
    "# Add shared colorbar\n",
    "# cbar = fig.colorbar(im, ax=axes.ravel().tolist(), orientation='horizontal', ticks=levels,\n",
    "#                     pad=1, shrink=0.8, fraction=0.05)\n",
    "# cbar.set_label(\"Wind Magnitude (m/s)\", fontsize=20)\n",
    "# cbar_ax = fig.add_axes([0.92, 0.15, 0.7, 0.02]) \n",
    "# cbar = fig.colorbar(im, cax=cbar_ax,\n",
    "#                     orientation='horizontal',\n",
    "#                     pad=0.01, shrink=0.8,\n",
    "#                     label='Wind Magnitude (m/s)')\n",
    "# cbar.set_label(\"Wind Magnitude (m/s)\", fontsize=20)\n",
    "# cbar.ax.tick_params(labelsize=20)\n",
    "# ticks= list(range(0, int(maxp), int(maxp/9)))\n",
    "# ticks = [f'{tick:.1f}' for tick in ticks][:-1]\n",
    "# cbar.set_ticklabels(ticks)\n",
    "\n",
    "# plt.title('Wind Magnitude Over Time From Storm Detection, 21 January 1988')\n",
    "# Improve layout and display\n",
    "plt.tight_layout()\n",
    "plt.show()\n"
   ]
  },
  {
   "cell_type": "markdown",
   "id": "83ee8882",
   "metadata": {},
   "source": [
    "# Eval"
   ]
  },
  {
   "cell_type": "code",
   "execution_count": 44,
   "id": "940c67e2",
   "metadata": {},
   "outputs": [
    {
     "data": {
      "text/plain": [
       "(387, 8, 32, 32)"
      ]
     },
     "execution_count": 44,
     "metadata": {},
     "output_type": "execute_result"
    }
   ],
   "source": [
    "\n",
    "import os \n",
    "import numpy as np \n",
    "realpath = '/home/cyclone/train/windmag_natlantic'\n",
    "\n",
    "# load all train examples\n",
    "train=[]\n",
    "ids = []\n",
    "for stormdir in sorted(os.listdir(realpath)):\n",
    "    if not os.path.isdir(os.path.join(realpath, stormdir)) or stormdir=='synth':\n",
    "        continue\n",
    "    ids.append(stormdir)\n",
    "    storm = []\n",
    "    for i in range(8):\n",
    "        p = os.path.join(realpath, stormdir, f'{i}.npy')\n",
    "        img = np.load(p)\n",
    "        img = np.nan_to_num(img, 0) # replace NAN (missing value) with 0\n",
    "        storm.append(np.array(img))\n",
    "    train.append(np.stack(storm))\n",
    "train = np.stack(train) # concatenate them all together into one matrix\n",
    "train.shape"
   ]
  },
  {
   "cell_type": "code",
   "execution_count": 45,
   "id": "17c9831e",
   "metadata": {},
   "outputs": [
    {
     "data": {
      "text/plain": [
       "(8, 32, 32)"
      ]
     },
     "execution_count": 45,
     "metadata": {},
     "output_type": "execute_result"
    }
   ],
   "source": [
    "composite=np.mean(train, axis=0) # make a \"composite\" by averaging over all storms\n",
    "composite.shape"
   ]
  },
  {
   "cell_type": "code",
   "execution_count": 47,
   "id": "9b207f21",
   "metadata": {},
   "outputs": [
    {
     "data": {
      "text/plain": [
       "(np.float64(6.233845682705272), np.float64(0.9805870115888183))"
      ]
     },
     "execution_count": 47,
     "metadata": {},
     "output_type": "execute_result"
    }
   ],
   "source": [
    "composite.mean(), composite.std()"
   ]
  },
  {
   "cell_type": "code",
   "execution_count": null,
   "id": "ff17a88f",
   "metadata": {},
   "outputs": [],
   "source": [
    "# COMMENTED OUT -- ASSUMES PNG FORMAT BUT NPY FORMAT SYNTHETICS DONT EXIST YET\n",
    "# load synthetics \n",
    "# synth = []\n",
    "# for stormdir in sorted(os.listdir(synthpath)):\n",
    "#     if not os.path.isdir(os.path.join(synthpath, stormdir)):\n",
    "#         continue\n",
    "#     storm = []\n",
    "#     for i in range(8):\n",
    "#         p = os.path.join(synthpath, stormdir, f'{i}.png')\n",
    "#         img = im.open(p)\n",
    "#         storm.append(np.array(img))\n",
    "#     synth.append(np.stack(storm))"
   ]
  },
  {
   "cell_type": "code",
   "execution_count": 6,
   "id": "7e62ba4b",
   "metadata": {},
   "outputs": [
    {
     "name": "stderr",
     "output_type": "stream",
     "text": [
      "/tmp/ipykernel_120206/3264090723.py:21: MatplotlibDeprecationWarning: The get_cmap function was deprecated in Matplotlib 3.7 and will be removed in 3.11. Use ``matplotlib.colormaps[name]`` or ``matplotlib.colormaps.get_cmap()`` or ``pyplot.get_cmap()`` instead.\n",
      "  base = plt.cm.get_cmap('viridis', len(levels) - 1)\n"
     ]
    },
    {
     "name": "stdout",
     "output_type": "stream",
     "text": [
      "24.48988787387243 0.24513142934556004\n",
      "44 0 (32, 32)\n",
      "46 0 (32, 32)\n",
      "60 2 (32, 32)\n",
      "52 0 (32, 32)\n",
      "70 5 (32, 32)\n",
      "77 1 (32, 32)\n",
      "95 1 (32, 32)\n",
      "100 2 (32, 32)\n"
     ]
    },
    {
     "data": {
      "image/png": "[encoded data removed]",
      "text/plain": [
       "<Figure size 1600x800 with 8 Axes>"
      ]
     },
     "metadata": {},
     "output_type": "display_data"
    }
   ],
   "source": [
    "import matplotlib.pyplot as plt\n",
    "import matplotlib.colors as mcolors\n",
    "import numpy as np\n",
    "path = '/home/cyclone/train/windmag_atlanticpacific/19880121120440013000'\n",
    "\n",
    "# Create a figure with 8 subplots (2 rows, 4 columns)\n",
    "fig, axes = plt.subplots(nrows=2, ncols=4, figsize=(16, 8))\n",
    "axes = axes.flatten()  # Flatten to simplify indexing\n",
    "\n",
    "imgs = []\n",
    "for i in range(8):\n",
    "    img = np.load(f'{path}/{i}.npy')  # Load the image data\n",
    "    if img.ndim == 3:\n",
    "        img = img.mean(axis=-1)\n",
    "    imgs.append(img)\n",
    "\n",
    "# 1. Define discrete levels and colormap\n",
    "levels = list(range(0,100, 10))\n",
    "# cmap = plt.get_cmap('viridis', len(levels) - 1)\n",
    "# Start from a discrete viridis\n",
    "base = plt.cm.get_cmap('viridis', len(levels) - 1)\n",
    "colors = base(np.arange(base.N))\n",
    "\n",
    "# Make the first bin (0–10) white\n",
    "colors[0] = (1.0, 1.0, 1.0, 1.0)  # RGBA white\n",
    "colors[1] = (0.73, 0.87, 1.00, 1.0) \n",
    "colors[2] = (0.50, 0.75, 1.00, 1.0) \n",
    "colors[3] = (0.31, 0.63, 0.96, 1.0) \n",
    "colors[4] = (0.12, 0.61, 0.80, 1.0) \n",
    "colors[5] = (0.00, 0.68, 0.54, 1.0) \n",
    "colors[6] = (0.42, 0.75, 0.29, 1.0) \n",
    "colors[7] = (0.78, 0.84, 0.17, 1.0) \n",
    "colors[8] = (1.00, 0.85, 0.12, 1.0) \n",
    "\n",
    "# Build a ListedColormap with modified colors\n",
    "cmap = mcolors.ListedColormap(colors)\n",
    "\n",
    "norm = mcolors.BoundaryNorm(boundaries=levels, ncolors=cmap.N)\n",
    "maxp = max([np.max(p) for p in imgs])\n",
    "minp = min([np.min(p) for p in imgs])\n",
    "print(maxp,minp)\n",
    "\n",
    "# Load and plot each .npy file\n",
    "for i in range(8):\n",
    "    img = imgs[i]\n",
    "    img = imgs[i]\n",
    "    # img = img - minp # Load the image data\n",
    "    img = img - minp \n",
    "    img = img / (maxp - minp)  # Normalize the image data\n",
    "    img = 100*img\n",
    "    img = img.astype(np.uint8)\n",
    "    print(img.max(), img.min(), img.shape)\n",
    "    axes[i].imshow(img, cmap=cmap, norm=norm)\n",
    "    axes[i].set_title(f'{i*6} Hours')\n",
    "    # axes[i].axis('off')  # Hide axes for better display\n",
    "    outline_axes(axes[i])\n",
    "\n",
    "# plt.title('Wind Magnitude Over Time From Storm Detection, 21 January 1988')\n",
    "# Improve layout and display\n",
    "plt.tight_layout()\n",
    "plt.show()\n"
   ]
  },
  {
   "cell_type": "code",
   "execution_count": 31,
   "id": "92a22910",
   "metadata": {},
   "outputs": [
    {
     "data": {
      "text/plain": [
       "(np.float32(0.84172505), np.float32(24.489887))"
      ]
     },
     "execution_count": 31,
     "metadata": {},
     "output_type": "execute_result"
    }
   ],
   "source": [
    "import numpy as np \n",
    "np.asarray(img).min(), np.asarray(img).max()"
   ]
  },
  {
   "cell_type": "code",
   "execution_count": null,
   "id": "861de48e",
   "metadata": {},
   "outputs": [],
   "source": []
  },
  {
   "cell_type": "markdown",
   "id": "674e650b",
   "metadata": {},
   "source": [
    "# Pretrain inference"
   ]
  },
  {
   "cell_type": "code",
   "execution_count": 1,
   "id": "092b201e",
   "metadata": {},
   "outputs": [
    {
     "name": "stderr",
     "output_type": "stream",
     "text": [
      "/home/sonia/miniconda3/envs/svd/lib/python3.11/site-packages/tqdm/auto.py:21: TqdmWarning: IProgress not found. Please update jupyter and ipywidgets. See https://ipywidgets.readthedocs.io/en/stable/user_install.html\n",
      "  from .autonotebook import tqdm as notebook_tqdm\n"
     ]
    }
   ],
   "source": [
    "import diffusers\n",
    "from diffusers import DiffusionPipeline\n",
    "from transformers import CLIPVisionModelWithProjection, CLIPImageProcessor\n",
    "import torch\n",
    "import cv2\n",
    "import numpy as np\n",
    "import os\n",
    "import random\n",
    "from tqdm import tqdm\n",
    "from PIL import Image \n",
    "\n",
    "model_path = '/home/sonia/cycloneSVD/img1e-8/'\n",
    "real_data_path = '/home/cyclone/train/windmag_atlanticpacific'"
   ]
  },
  {
   "cell_type": "code",
   "execution_count": 13,
   "id": "8619b073",
   "metadata": {},
   "outputs": [],
   "source": [
    "unet = diffusers.UNet2DConditionModel.from_pretrained(\n",
    "    model_path, subfolder=\"unet\", revision=\"main\"\n",
    ")\n",
    "unet = unet.eval()"
   ]
  },
  {
   "cell_type": "code",
   "execution_count": 20,
   "id": "619eb1c8",
   "metadata": {},
   "outputs": [],
   "source": [
    "cross_attention_dim = 768\n",
    "zeros = torch.zeros(1, 1, cross_attention_dim) #16=train batch size\n",
    "\n",
    "class CondDiffusionPipeline(DiffusionPipeline):\n",
    "    def __init__(self, unet, scheduler):\n",
    "        super().__init__()\n",
    "        self.register_modules(unet=unet, scheduler=scheduler)\n",
    "        self.unet = unet \n",
    "        self.scheduler = scheduler \n",
    "        \n",
    "    @torch.no_grad()\n",
    "    def __call__(self, batch_size=1, generator=None, encoder_hidden_states=None, **kwargs):\n",
    "        device = self.unet.device\n",
    "        sample  = torch.randn(\n",
    "            batch_size, self.unet.config['out_channels'], 32, 32,\n",
    "            generator=generator, device=device\n",
    "        )\n",
    "        \n",
    "        self.scheduler.set_timesteps(1000)\n",
    "        \n",
    "        for t in self.scheduler.timesteps:\n",
    "            eps = self.unet(sample, t, encoder_hidden_states=encoder_hidden_states)\n",
    "            sample = self.scheduler.step(eps.sample, t, sample).prev_sample\n",
    "            \n",
    "        return {\"images\": sample.cpu()}"
   ]
  },
  {
   "cell_type": "code",
   "execution_count": 21,
   "id": "b3746013",
   "metadata": {},
   "outputs": [
    {
     "name": "stderr",
     "output_type": "stream",
     "text": [
      "/home/sonia/miniconda3/envs/svd/lib/python3.11/site-packages/diffusers/configuration_utils.py:250: FutureWarning: It is deprecated to pass a pretrained model name or path to `from_config`.If you were trying to load a scheduler, please use <class 'diffusers.schedulers.scheduling_ddpm.DDPMScheduler'>.from_pretrained(...) instead. Otherwise, please make sure to pass a configuration dictionary instead. This functionality will be removed in v1.0.0.\n",
      "  deprecate(\"config-passed-as-path\", \"1.0.0\", deprecation_message, standard_warn=False)\n"
     ]
    }
   ],
   "source": [
    "noise_scheduler = diffusers.DDPMScheduler.from_config(model_path, subfolder=\"scheduler\", revision=\"main\")\n",
    "pipeline = CondDiffusionPipeline(unet=unet, scheduler=noise_scheduler)\n",
    "images = pipeline(\n",
    "    batch_size=1,\n",
    "    generator=torch.Generator().manual_seed(0), \n",
    "    encoder_hidden_states=zeros,\n",
    "    # Use a separate torch generator to avoid rewinding the random state of the main training loop\n",
    ")['images']"
   ]
  },
  {
   "cell_type": "code",
   "execution_count": 25,
   "id": "ac37cc0c",
   "metadata": {},
   "outputs": [],
   "source": [
    "sample  = torch.randn(\n",
    "    1, unet.config['out_channels'], 32, 32,\n",
    "    generator=torch.Generator().manual_seed(0)\n",
    ")\n",
    "for t in noise_scheduler.timesteps:\n",
    "    eps = unet(sample, t, encoder_hidden_states=zeros)\n",
    "    sample = noise_scheduler.step(eps.sample, t, sample).prev_sample"
   ]
  },
  {
   "cell_type": "code",
   "execution_count": 29,
   "id": "5605bfaf",
   "metadata": {},
   "outputs": [
    {
     "data": {
      "text/plain": [
       "torch.Size([1, 1, 32, 32])"
      ]
     },
     "execution_count": 29,
     "metadata": {},
     "output_type": "execute_result"
    }
   ],
   "source": [
    "sample.shape"
   ]
  },
  {
   "cell_type": "code",
   "execution_count": 28,
   "id": "900c1386",
   "metadata": {},
   "outputs": [
    {
     "data": {
      "text/plain": [
       "dict_keys(['sample'])"
      ]
     },
     "execution_count": 28,
     "metadata": {},
     "output_type": "execute_result"
    }
   ],
   "source": [
    "dict(eps).keys()"
   ]
  },
  {
   "cell_type": "code",
   "execution_count": null,
   "id": "e475e3b0",
   "metadata": {},
   "outputs": [
    {
     "name": "stderr",
     "output_type": "stream",
     "text": [
      "/tmp/ipykernel_419178/1773793997.py:3: DeprecationWarning: 'mode' parameter is deprecated and will be removed in Pillow 13 (2026-10-15)\n",
      "  Image.fromarray(img, mode='L').resize((100,100))\n"
     ]
    },
    {
     "data": {
      "image/jpeg": "[encoded data removed]",
      "image/png": "[encoded data removed]",
      "text/plain": [
       "<PIL.Image.Image image mode=L size=100x100>"
      ]
     },
     "execution_count": 19,
     "metadata": {},
     "output_type": "execute_result"
    }
   ],
   "source": [
    "img = (images[0]+1) * 255/2\n",
    "img = img.squeeze().numpy()\n",
    "Image.fromarray(img, mode='L').resize((100,100))"
   ]
  },
  {
   "cell_type": "code",
   "execution_count": null,
   "id": "55495f60",
   "metadata": {},
   "outputs": [],
   "source": []
  }
 ],
 "metadata": {
  "kernelspec": {
   "display_name": "svd",
   "language": "python",
   "name": "python3"
  },
  "language_info": {
   "codemirror_mode": {
    "name": "ipython",
    "version": 3
   },
   "file_extension": ".py",
   "mimetype": "text/x-python",
   "name": "python",
   "nbconvert_exporter": "python",
   "pygments_lexer": "ipython3",
   "version": "3.11.11"
  }
 },
 "nbformat": 4,
 "nbformat_minor": 5
}
