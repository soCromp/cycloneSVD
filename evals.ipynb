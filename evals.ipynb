{
 "cells": [
  {
   "cell_type": "code",
   "execution_count": 2,
   "id": "8b3fd61a",
   "metadata": {},
   "outputs": [],
   "source": [
    "import os \n",
    "import numpy as np \n",
    "from PIL import Image as im\n",
    "trainpath = '/mnt/data/sonia/occetc/vars3-25.04.05'"
   ]
  },
  {
   "cell_type": "code",
   "execution_count": 10,
   "id": "01ad3453",
   "metadata": {},
   "outputs": [],
   "source": [
    "# load train \n",
    "train = []\n",
    "for stormdir in os.listdir(trainpath):\n",
    "    if not os.path.isdir(os.path.join(trainpath, stormdir)):\n",
    "        continue\n",
    "    storm = []\n",
    "    for i in range(8):\n",
    "        p = os.path.join(trainpath, stormdir, f'{i}.png')\n",
    "        img = im.open(p)\n",
    "        storm.append(np.array(img))\n",
    "    train.append(np.stack(storm))"
   ]
  },
  {
   "cell_type": "code",
   "execution_count": 11,
   "id": "231696f1",
   "metadata": {},
   "outputs": [
    {
     "data": {
      "text/plain": [
       "(8, 32, 32, 3)"
      ]
     },
     "execution_count": 11,
     "metadata": {},
     "output_type": "execute_result"
    }
   ],
   "source": [
    "train[0].shape"
   ]
  },
  {
   "cell_type": "markdown",
   "id": "8ab8e166",
   "metadata": {},
   "source": [
    "Univariate distributions"
   ]
  },
  {
   "cell_type": "code",
   "execution_count": null,
   "id": "bf1ed994",
   "metadata": {},
   "outputs": [],
   "source": []
  },
  {
   "cell_type": "markdown",
   "id": "b5210733",
   "metadata": {},
   "source": [
    "Correlations"
   ]
  },
  {
   "cell_type": "code",
   "execution_count": null,
   "id": "563c80e9",
   "metadata": {},
   "outputs": [],
   "source": []
  }
 ],
 "metadata": {
  "kernelspec": {
   "display_name": "ccri",
   "language": "python",
   "name": "python3"
  },
  "language_info": {
   "codemirror_mode": {
    "name": "ipython",
    "version": 3
   },
   "file_extension": ".py",
   "mimetype": "text/x-python",
   "name": "python",
   "nbconvert_exporter": "python",
   "pygments_lexer": "ipython3",
   "version": "3.12.2"
  }
 },
 "nbformat": 4,
 "nbformat_minor": 5
}
