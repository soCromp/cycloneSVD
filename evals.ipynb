{
 "cells": [
  {
   "cell_type": "markdown",
   "id": "e1f58f70",
   "metadata": {},
   "source": [
    "# Inference"
   ]
  },
  {
   "cell_type": "code",
   "execution_count": 28,
   "id": "f88cce00",
   "metadata": {},
   "outputs": [],
   "source": [
    "import diffusers\n",
    "from transformers import CLIPVisionModelWithProjection, CLIPImageProcessor\n",
    "import torch\n",
    "import cv2\n",
    "import numpy as np\n",
    "import os\n",
    "import random\n",
    "from tqdm import tqdm"
   ]
  },
  {
   "cell_type": "code",
   "execution_count": 21,
   "id": "939bc849",
   "metadata": {},
   "outputs": [
    {
     "name": "stderr",
     "output_type": "stream",
     "text": [
      "Loading pipeline components...: 100%|██████████| 5/5 [00:00<00:00, 239.48it/s]\n"
     ]
    }
   ],
   "source": [
    "feature_extractor = CLIPImageProcessor.from_pretrained('/mnt/data/sonia/svd/outputs/feature_extractor')\n",
    "image_encoder = CLIPVisionModelWithProjection.from_pretrained('/mnt/data/sonia/svd/outputs/image_encoder')\n",
    "scheduler = diffusers.DDPMScheduler.from_pretrained(\"/mnt/data/sonia/svd/outputs/scheduler\")\n",
    "unet = diffusers.UNetSpatioTemporalConditionModel.from_pretrained('/mnt/data/sonia/svd/outputs/unet')\n",
    "vae = diffusers.AutoencoderKLTemporalDecoder.from_pretrained('/mnt/data/sonia/svd/outputs/vae')\n",
    "pipeline = diffusers.StableVideoDiffusionPipeline.from_pretrained(\n",
    "    'stabilityai/stable-video-diffusion-img2vid',\n",
    "    image_encoder=image_encoder,\n",
    "    vae=vae,\n",
    "    unet=unet,\n",
    "    # revision=args.revision,\n",
    ")\n",
    "width, height = img.size\n",
    "num_frames = 8\n",
    "n = 500 # desired eval set size"
   ]
  },
  {
   "cell_type": "code",
   "execution_count": null,
   "id": "4ca8de37",
   "metadata": {},
   "outputs": [
    {
     "name": "stderr",
     "output_type": "stream",
     "text": [
      "100%|██████████| 25/25 [01:32<00:00,  3.71s/it]\n"
     ]
    }
   ],
   "source": [
    "# just to test..\n",
    "img = diffusers.utils.load_image('demo.png')\n",
    "video_frames = pipeline(\n",
    "    img,\n",
    "    height=height,\n",
    "    width=width,\n",
    "    num_frames=num_frames,\n",
    "    decode_chunk_size=8,\n",
    "    motion_bucket_id=127,\n",
    "    fps=7,\n",
    "    noise_aug_strength=0.02,\n",
    "    # generator=generator,\n",
    ").frames[0]\n",
    "fourcc = cv2.VideoWriter_fourcc(*'mp4v') \n",
    "video = cv2.VideoWriter(f'sample.mp4', fourcc, 1.5, (width, height))\n",
    "for i in range(num_frames):\n",
    "    video.write(np.array(video_frames[i]))\n",
    "video.release()"
   ]
  },
  {
   "cell_type": "code",
   "execution_count": null,
   "id": "5351e8b1",
   "metadata": {},
   "outputs": [],
   "source": [
    "datadir = '/mnt/data/sonia/occetc/vars3-25.04.05/'\n",
    "outputdir = os.path.join(datadir, 'evals')\n",
    "if not os.path.exists(outputdir):\n",
    "    os.makedirs(outputdir)\n",
    "    \n",
    "allexamples = os.listdir(datadir)\n",
    "examples = random.sample(examples, n)\n",
    "with open(os.path.join(outputdir, 'examples.txt'), 'w+') as f:\n",
    "    f.write('\\n'.join(examples))\n",
    "preds = []\n",
    "\n",
    "for example in tqdm(examples):\n",
    "    imgs = [] \n",
    "    for i in range(num_frames):\n",
    "        img = diffusers.utils.load_image(os.path.join(datadir, example, f'{i}.png'))\n",
    "        imgs.append(img)\n",
    "        \n",
    "    sample = pipeline(\n",
    "        imgs[0],\n",
    "        height=height,\n",
    "        width=width,\n",
    "        num_frames=num_frames,\n",
    "        decode_chunk_size=8,\n",
    "        motion_bucket_id=127,\n",
    "        fps=7,\n",
    "        noise_aug_strength=0.02,\n",
    "    ).frames[0]\n",
    "    preds.append(sample)\n",
    "    os.makedirs(os.path.join(outputdir, example), exist_ok=True)\n",
    "    for i in range(num_frames):\n",
    "        sample[i].save(os.path.join(outputdir, example, f'{i}.png'))"
   ]
  },
  {
   "cell_type": "markdown",
   "id": "83ee8882",
   "metadata": {},
   "source": [
    "# Eval"
   ]
  },
  {
   "cell_type": "code",
   "execution_count": 6,
   "id": "8b3fd61a",
   "metadata": {},
   "outputs": [],
   "source": [
    "import os \n",
    "import numpy as np \n",
    "from PIL import Image as im\n",
    "trainpath = '/mnt/data/sonia/occetc/vars3-25.04.05'\n",
    "synthpath = '/mnt/data/sonia/occetc/vars3-25.04.05/evals'"
   ]
  },
  {
   "cell_type": "code",
   "execution_count": 10,
   "id": "01ad3453",
   "metadata": {},
   "outputs": [],
   "source": [
    "# load train \n",
    "train = []\n",
    "for stormdir in sorted(os.listdir(trainpath)):\n",
    "    if not os.path.isdir(os.path.join(trainpath, stormdir)) or stormdir=='evals':\n",
    "        continue\n",
    "    storm = []\n",
    "    for i in range(8):\n",
    "        p = os.path.join(trainpath, stormdir, f'{i}.png')\n",
    "        img = im.open(p)\n",
    "        storm.append(np.array(img))\n",
    "    train.append(np.stack(storm))"
   ]
  },
  {
   "cell_type": "code",
   "execution_count": 11,
   "id": "ff17a88f",
   "metadata": {},
   "outputs": [],
   "source": [
    "# load synthetics \n",
    "synth = []\n",
    "for stormdir in sorted(os.listdir(synthpath)):\n",
    "    if not os.path.isdir(os.path.join(synthpath, stormdir)):\n",
    "        continue\n",
    "    storm = []\n",
    "    for i in range(8):\n",
    "        p = os.path.join(synthpath, stormdir, f'{i}.png')\n",
    "        img = im.open(p)\n",
    "        storm.append(np.array(img))\n",
    "    synth.append(np.stack(storm))"
   ]
  },
  {
   "cell_type": "code",
   "execution_count": 12,
   "id": "231696f1",
   "metadata": {},
   "outputs": [
    {
     "data": {
      "text/plain": [
       "(8, 32, 32, 3)"
      ]
     },
     "execution_count": 12,
     "metadata": {},
     "output_type": "execute_result"
    }
   ],
   "source": [
    "synth[0].shape"
   ]
  },
  {
   "cell_type": "markdown",
   "id": "8ab8e166",
   "metadata": {},
   "source": [
    "Univariate distributions"
   ]
  },
  {
   "cell_type": "code",
   "execution_count": null,
   "id": "bf1ed994",
   "metadata": {},
   "outputs": [],
   "source": []
  },
  {
   "cell_type": "markdown",
   "id": "b5210733",
   "metadata": {},
   "source": [
    "Correlations"
   ]
  },
  {
   "cell_type": "code",
   "execution_count": null,
   "id": "563c80e9",
   "metadata": {},
   "outputs": [],
   "source": []
  }
 ],
 "metadata": {
  "kernelspec": {
   "display_name": "svd",
   "language": "python",
   "name": "python3"
  },
  "language_info": {
   "codemirror_mode": {
    "name": "ipython",
    "version": 3
   },
   "file_extension": ".py",
   "mimetype": "text/x-python",
   "name": "python",
   "nbconvert_exporter": "python",
   "pygments_lexer": "ipython3",
   "version": "3.11.11"
  }
 },
 "nbformat": 4,
 "nbformat_minor": 5
}
